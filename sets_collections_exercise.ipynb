{
 "cells": [
  {
   "cell_type": "markdown",
   "metadata": {},
   "source": [
    "# Sets, Collections, & Exception Handling \n",
    "\n",
    "## Sets"
   ]
  },
  {
   "cell_type": "markdown",
   "metadata": {},
   "source": [
    "* create a new empty set\n",
    "* print that set"
   ]
  },
  {
   "cell_type": "code",
   "execution_count": 1,
   "metadata": {
    "ExecuteTime": {
     "end_time": "2020-04-23T12:46:18.460389Z",
     "start_time": "2020-04-23T12:46:18.455558Z"
    }
   },
   "outputs": [
    {
     "name": "stdout",
     "output_type": "stream",
     "text": [
      "set()\n"
     ]
    }
   ],
   "source": [
    "# Create an empty set\n",
    "my_set = set()\n",
    "\n",
    "# Print the set\n",
    "print(my_set)"
   ]
  },
  {
   "cell_type": "markdown",
   "metadata": {},
   "source": [
    "* create a non empty set\n",
    "* print that set"
   ]
  },
  {
   "cell_type": "code",
   "execution_count": 2,
   "metadata": {
    "ExecuteTime": {
     "end_time": "2020-04-23T12:46:19.054630Z",
     "start_time": "2020-04-23T12:46:19.049150Z"
    }
   },
   "outputs": [
    {
     "name": "stdout",
     "output_type": "stream",
     "text": [
      "{1, 2, 3, 4}\n"
     ]
    }
   ],
   "source": [
    "# Create a non-empty set\n",
    "my_non_empty_set = {1, 2, 3, 4}\n",
    "\n",
    "# Print the set\n",
    "print(my_non_empty_set)"
   ]
  },
  {
   "cell_type": "markdown",
   "metadata": {},
   "source": [
    "* iterate over the set and print results"
   ]
  },
  {
   "cell_type": "code",
   "execution_count": 3,
   "metadata": {
    "ExecuteTime": {
     "end_time": "2020-04-23T12:46:19.563824Z",
     "start_time": "2020-04-23T12:46:19.559855Z"
    }
   },
   "outputs": [
    {
     "name": "stdout",
     "output_type": "stream",
     "text": [
      "1\n",
      "2\n",
      "3\n",
      "4\n"
     ]
    }
   ],
   "source": [
    "# Create a non-empty set\n",
    "my_non_empty_set = {1, 2, 3, 4}\n",
    "\n",
    "# Iterate over the set and print each element\n",
    "for item in my_non_empty_set:\n",
    "    print(item)"
   ]
  },
  {
   "cell_type": "markdown",
   "metadata": {},
   "source": [
    "* add one item to the set"
   ]
  },
  {
   "cell_type": "code",
   "execution_count": 4,
   "metadata": {
    "ExecuteTime": {
     "end_time": "2020-04-23T12:46:20.119320Z",
     "start_time": "2020-04-23T12:46:20.112837Z"
    }
   },
   "outputs": [
    {
     "name": "stdout",
     "output_type": "stream",
     "text": [
      "{1, 2, 3, 4, 5}\n"
     ]
    }
   ],
   "source": [
    "# Create a non-empty set\n",
    "my_non_empty_set = {1, 2, 3, 4}\n",
    "\n",
    "# Add an item to the set\n",
    "my_non_empty_set.add(5)\n",
    "\n",
    "# Print the updated set\n",
    "print(my_non_empty_set)"
   ]
  },
  {
   "cell_type": "markdown",
   "metadata": {
    "ExecuteTime": {
     "end_time": "2020-04-23T12:45:07.836265Z",
     "start_time": "2020-04-23T12:45:07.828657Z"
    }
   },
   "source": [
    "* add multiple items to the set"
   ]
  },
  {
   "cell_type": "code",
   "execution_count": 5,
   "metadata": {
    "ExecuteTime": {
     "end_time": "2020-04-23T12:46:20.661141Z",
     "start_time": "2020-04-23T12:46:20.650715Z"
    }
   },
   "outputs": [
    {
     "name": "stdout",
     "output_type": "stream",
     "text": [
      "{1, 2, 3, 4, 5, 6, 7}\n"
     ]
    }
   ],
   "source": [
    "# Create a non-empty set\n",
    "my_non_empty_set = {1, 2, 3, 4}\n",
    "\n",
    "# Add multiple items to the set\n",
    "my_non_empty_set.update({5, 6, 7})\n",
    "\n",
    "# Print the updated set\n",
    "print(my_non_empty_set)"
   ]
  },
  {
   "cell_type": "markdown",
   "metadata": {
    "ExecuteTime": {
     "end_time": "2020-04-23T12:45:14.108185Z",
     "start_time": "2020-04-23T12:45:14.102482Z"
    }
   },
   "source": [
    "* remove an item from a set if it is present in the set"
   ]
  },
  {
   "cell_type": "code",
   "execution_count": 6,
   "metadata": {
    "ExecuteTime": {
     "end_time": "2020-04-23T12:46:21.067703Z",
     "start_time": "2020-04-23T12:46:21.061624Z"
    }
   },
   "outputs": [
    {
     "name": "stdout",
     "output_type": "stream",
     "text": [
      "Item 3 removed successfully.\n",
      "{1, 2, 4, 5}\n"
     ]
    }
   ],
   "source": [
    "# Create a non-empty set\n",
    "my_non_empty_set = {1, 2, 3, 4, 5}\n",
    "\n",
    "# Item to remove (if present)\n",
    "item_to_remove = 3\n",
    "\n",
    "# Check if the item is in the set\n",
    "if item_to_remove in my_non_empty_set:\n",
    "    my_non_empty_set.remove(item_to_remove)\n",
    "    print(f\"Item {item_to_remove} removed successfully.\")\n",
    "else:\n",
    "    print(f\"Item {item_to_remove} is not present in the set.\")\n",
    "\n",
    "# Print the updated set\n",
    "print(my_non_empty_set)"
   ]
  },
  {
   "cell_type": "markdown",
   "metadata": {},
   "source": [
    "* find maximum and minimum values of the set"
   ]
  },
  {
   "cell_type": "code",
   "execution_count": 7,
   "metadata": {
    "ExecuteTime": {
     "end_time": "2020-04-23T12:46:21.801693Z",
     "start_time": "2020-04-23T12:46:21.794587Z"
    }
   },
   "outputs": [
    {
     "name": "stdout",
     "output_type": "stream",
     "text": [
      "Maximum value: 5\n",
      "Minimum value: 1\n"
     ]
    }
   ],
   "source": [
    "# Given set\n",
    "my_set = {1, 2, 4, 5}\n",
    "\n",
    "# Find maximum value\n",
    "maximum_value = max(my_set)\n",
    "\n",
    "# Find minimum value\n",
    "minimum_value = min(my_set)\n",
    "\n",
    "print(f\"Maximum value: {maximum_value}\")\n",
    "print(f\"Minimum value: {minimum_value}\")"
   ]
  },
  {
   "cell_type": "markdown",
   "metadata": {},
   "source": [
    "* print the length of the set"
   ]
  },
  {
   "cell_type": "code",
   "execution_count": 8,
   "metadata": {
    "ExecuteTime": {
     "end_time": "2020-04-23T12:46:22.281394Z",
     "start_time": "2020-04-23T12:46:22.275978Z"
    }
   },
   "outputs": [
    {
     "name": "stdout",
     "output_type": "stream",
     "text": [
      "The length of the set is: 4\n"
     ]
    }
   ],
   "source": [
    "# Given set\n",
    "my_set = {1, 2, 4, 5}\n",
    "\n",
    "# Calculate the length of the set\n",
    "set_length = len(my_set)\n",
    "\n",
    "print(f\"The length of the set is: {set_length}\")"
   ]
  },
  {
   "cell_type": "code",
   "execution_count": null,
   "metadata": {
    "ExecuteTime": {
     "end_time": "2020-04-23T12:46:22.783616Z",
     "start_time": "2020-04-23T12:46:22.779193Z"
    }
   },
   "outputs": [],
   "source": []
  },
  {
   "cell_type": "markdown",
   "metadata": {},
   "source": [
    "* create an intersection of x and y"
   ]
  },
  {
   "cell_type": "code",
   "execution_count": 9,
   "metadata": {
    "ExecuteTime": {
     "end_time": "2020-04-23T12:46:23.277505Z",
     "start_time": "2020-04-23T12:46:23.270998Z"
    }
   },
   "outputs": [
    {
     "name": "stdout",
     "output_type": "stream",
     "text": [
      "The intersection of X and Y is: {3, 4}\n"
     ]
    }
   ],
   "source": [
    "# Define two sets\n",
    "X = {1, 2, 3, 4}\n",
    "Y = {3, 4, 5, 6}\n",
    "\n",
    "# Calculate the intersection\n",
    "intersection = X & Y\n",
    "\n",
    "# Print the result\n",
    "print(f\"The intersection of X and Y is: {intersection}\")"
   ]
  },
  {
   "cell_type": "markdown",
   "metadata": {},
   "source": [
    "* create an union of x and y"
   ]
  },
  {
   "cell_type": "code",
   "execution_count": 10,
   "metadata": {
    "ExecuteTime": {
     "end_time": "2020-04-23T12:46:23.716826Z",
     "start_time": "2020-04-23T12:46:23.709614Z"
    }
   },
   "outputs": [
    {
     "name": "stdout",
     "output_type": "stream",
     "text": [
      "The union of X and Y is: {1, 2, 3, 4, 5, 6}\n"
     ]
    }
   ],
   "source": [
    "# Define two sets\n",
    "X = {1, 2, 3, 4}\n",
    "Y = {3, 4, 5, 6}\n",
    "\n",
    "# Calculate the union\n",
    "union_set = X | Y\n",
    "\n",
    "# Print the result\n",
    "print(f\"The union of X and Y is: {union_set}\")"
   ]
  },
  {
   "cell_type": "markdown",
   "metadata": {},
   "source": [
    "* create difference between x and y"
   ]
  },
  {
   "cell_type": "code",
   "execution_count": 11,
   "metadata": {
    "ExecuteTime": {
     "end_time": "2020-04-23T12:46:24.122128Z",
     "start_time": "2020-04-23T12:46:24.109428Z"
    }
   },
   "outputs": [
    {
     "name": "stdout",
     "output_type": "stream",
     "text": [
      "The difference between X and Y is: {1, 2}\n"
     ]
    }
   ],
   "source": [
    "# Define two sets\n",
    "X = {1, 2, 3, 4}\n",
    "Y = {3, 4, 5, 6}\n",
    "\n",
    "# Calculate the difference (X - Y)\n",
    "difference_set = X - Y\n",
    "\n",
    "# Print the result\n",
    "print(f\"The difference between X and Y is: {difference_set}\")"
   ]
  },
  {
   "cell_type": "markdown",
   "metadata": {
    "ExecuteTime": {
     "end_time": "2020-03-11T15:45:04.754557Z",
     "start_time": "2020-03-11T15:45:04.734426Z"
    }
   },
   "source": [
    "---------------\n",
    "## Collections"
   ]
  },
  {
   "cell_type": "markdown",
   "metadata": {},
   "source": [
    "* for each word in a sentence count the occurence\n",
    "* **sentence:** *black cat jumped over white cat*"
   ]
  },
  {
   "cell_type": "code",
   "execution_count": 12,
   "metadata": {
    "ExecuteTime": {
     "end_time": "2020-04-23T12:46:24.725222Z",
     "start_time": "2020-04-23T12:46:24.718367Z"
    }
   },
   "outputs": [
    {
     "name": "stdout",
     "output_type": "stream",
     "text": [
      "'black': 1\n",
      "'cat': 2\n",
      "'jumped': 1\n",
      "'over': 1\n",
      "'white': 1\n"
     ]
    }
   ],
   "source": [
    "from collections import Counter\n",
    "\n",
    "# Given sentence\n",
    "sentence = \"black cat jumped over white cat\"\n",
    "\n",
    "# Split the sentence into words\n",
    "words = sentence.split()\n",
    "\n",
    "# Create a Counter to count word occurrences\n",
    "word_counts = Counter(words)\n",
    "\n",
    "# Print the word counts\n",
    "for word, count in word_counts.items():\n",
    "    print(f\"'{word}': {count}\")"
   ]
  },
  {
   "cell_type": "markdown",
   "metadata": {},
   "source": [
    "* print the most common words"
   ]
  },
  {
   "cell_type": "code",
   "execution_count": 13,
   "metadata": {
    "ExecuteTime": {
     "end_time": "2020-04-23T12:46:25.137822Z",
     "start_time": "2020-04-23T12:46:25.125541Z"
    }
   },
   "outputs": [
    {
     "name": "stdout",
     "output_type": "stream",
     "text": [
      "Most common words:\n",
      "'cat': 2\n",
      "'black': 1\n"
     ]
    }
   ],
   "source": [
    "from collections import Counter\n",
    "\n",
    "# Given sentence\n",
    "sentence = \"black cat jumped over white cat\"\n",
    "\n",
    "# Split the sentence into words\n",
    "words = sentence.split()\n",
    "\n",
    "# Create a Counter to count word occurrences\n",
    "word_counts = Counter(words)\n",
    "\n",
    "# Get the most common words (top N)\n",
    "top_n = 2  # Change this value to get more or fewer words\n",
    "most_common_words = word_counts.most_common(top_n)\n",
    "\n",
    "# Print the most common words\n",
    "print(\"Most common words:\")\n",
    "for word, count in most_common_words:\n",
    "    print(f\"'{word}': {count}\")"
   ]
  },
  {
   "cell_type": "markdown",
   "metadata": {},
   "source": [
    "* count the occurences of words in the same sentence but now use **defaultdict**"
   ]
  },
  {
   "cell_type": "code",
   "execution_count": 14,
   "metadata": {
    "ExecuteTime": {
     "end_time": "2020-04-23T12:46:25.584924Z",
     "start_time": "2020-04-23T12:46:25.576870Z"
    }
   },
   "outputs": [
    {
     "name": "stdout",
     "output_type": "stream",
     "text": [
      "'black': 1\n",
      "'cat': 2\n",
      "'jumped': 1\n",
      "'over': 1\n",
      "'white': 1\n"
     ]
    }
   ],
   "source": [
    "from collections import defaultdict\n",
    "\n",
    "# Given sentence\n",
    "sentence = \"black cat jumped over white cat\"\n",
    "\n",
    "# Split the sentence into words\n",
    "words = sentence.split()\n",
    "\n",
    "# Create a defaultdict with default value 0\n",
    "word_counts = defaultdict(int)\n",
    "\n",
    "# Count occurrences of each word\n",
    "for word in words:\n",
    "    word_counts[word] += 1\n",
    "\n",
    "# Print the word counts\n",
    "for word, count in word_counts.items():\n",
    "    print(f\"'{word}': {count}\")"
   ]
  },
  {
   "cell_type": "markdown",
   "metadata": {
    "ExecuteTime": {
     "end_time": "2020-04-23T12:42:40.229428Z",
     "start_time": "2020-04-23T12:42:40.222302Z"
    }
   },
   "source": [
    "* create deque from list set used in first exercise"
   ]
  },
  {
   "cell_type": "code",
   "execution_count": 15,
   "metadata": {
    "ExecuteTime": {
     "end_time": "2020-04-23T12:46:26.011195Z",
     "start_time": "2020-04-23T12:46:26.007688Z"
    }
   },
   "outputs": [
    {
     "name": "stdout",
     "output_type": "stream",
     "text": [
      "The deque: deque(['black', 'cat', 'jumped', 'over', 'white', 'cat'])\n"
     ]
    }
   ],
   "source": [
    "from collections import deque\n",
    "\n",
    "# Given list of words\n",
    "words_list = [\"black\", \"cat\", \"jumped\", \"over\", \"white\", \"cat\"]\n",
    "\n",
    "# Create a deque from the list\n",
    "words_deque = deque(words_list)\n",
    "\n",
    "# Print the deque\n",
    "print(f\"The deque: {words_deque}\")"
   ]
  },
  {
   "cell_type": "markdown",
   "metadata": {},
   "source": [
    "* append number 10 to deque"
   ]
  },
  {
   "cell_type": "code",
   "execution_count": 16,
   "metadata": {
    "ExecuteTime": {
     "end_time": "2020-04-23T12:46:26.406289Z",
     "start_time": "2020-04-23T12:46:26.397483Z"
    }
   },
   "outputs": [
    {
     "name": "stdout",
     "output_type": "stream",
     "text": [
      "The updated deque: deque(['black', 'cat', 'jumped', 'over', 'white', 'cat', 10])\n"
     ]
    }
   ],
   "source": [
    "from collections import deque\n",
    "\n",
    "# Given deque\n",
    "words_deque = deque(['black', 'cat', 'jumped', 'over', 'white', 'cat'])\n",
    "\n",
    "# Append the number 10\n",
    "words_deque.append(10)\n",
    "\n",
    "# Print the updated deque\n",
    "print(f\"The updated deque: {words_deque}\")"
   ]
  },
  {
   "cell_type": "markdown",
   "metadata": {},
   "source": [
    "* remove element from the right end from deque"
   ]
  },
  {
   "cell_type": "code",
   "execution_count": 17,
   "metadata": {
    "ExecuteTime": {
     "end_time": "2020-04-23T12:46:26.788077Z",
     "start_time": "2020-04-23T12:46:26.776926Z"
    }
   },
   "outputs": [
    {
     "name": "stdout",
     "output_type": "stream",
     "text": [
      "The updated deque: deque(['black', 'cat', 'jumped', 'over', 'white', 'cat'])\n",
      "Removed element: 10\n"
     ]
    }
   ],
   "source": [
    "from collections import deque\n",
    "\n",
    "# Given deque\n",
    "words_deque = deque(['black', 'cat', 'jumped', 'over', 'white', 'cat', 10])\n",
    "\n",
    "# Remove the rightmost element\n",
    "removed_element = words_deque.pop()\n",
    "\n",
    "# Print the updated deque and the removed element\n",
    "print(f\"The updated deque: {words_deque}\")\n",
    "print(f\"Removed element: {removed_element}\")"
   ]
  },
  {
   "cell_type": "markdown",
   "metadata": {},
   "source": [
    "* remove element from the left end from deque"
   ]
  },
  {
   "cell_type": "code",
   "execution_count": 18,
   "metadata": {
    "ExecuteTime": {
     "end_time": "2020-04-23T12:46:27.379076Z",
     "start_time": "2020-04-23T12:46:27.373076Z"
    }
   },
   "outputs": [
    {
     "name": "stdout",
     "output_type": "stream",
     "text": [
      "The updated deque: deque(['cat', 'jumped', 'over', 'white', 'cat'])\n",
      "Removed element: black\n"
     ]
    }
   ],
   "source": [
    "from collections import deque\n",
    "\n",
    "# Given deque\n",
    "words_deque = deque(['black', 'cat', 'jumped', 'over', 'white', 'cat'])\n",
    "\n",
    "# Remove the leftmost element\n",
    "removed_element = words_deque.popleft()\n",
    "\n",
    "# Print the updated deque and the removed element\n",
    "print(f\"The updated deque: {words_deque}\")\n",
    "print(f\"Removed element: {removed_element}\")"
   ]
  },
  {
   "cell_type": "markdown",
   "metadata": {},
   "source": [
    "* delete all elements from deque"
   ]
  },
  {
   "cell_type": "code",
   "execution_count": 19,
   "metadata": {
    "ExecuteTime": {
     "end_time": "2020-04-23T12:46:27.788235Z",
     "start_time": "2020-04-23T12:46:27.778162Z"
    }
   },
   "outputs": [
    {
     "name": "stdout",
     "output_type": "stream",
     "text": [
      "The empty deque: deque([])\n"
     ]
    }
   ],
   "source": [
    "from collections import deque\n",
    "\n",
    "# Create an empty deque\n",
    "empty_deque = deque()\n",
    "\n",
    "# Print the empty deque\n",
    "print(f\"The empty deque: {empty_deque}\")"
   ]
  },
  {
   "cell_type": "markdown",
   "metadata": {},
   "source": [
    "* create named tuple (people) with name and surname as position names"
   ]
  },
  {
   "cell_type": "code",
   "execution_count": 20,
   "metadata": {
    "ExecuteTime": {
     "end_time": "2020-04-23T12:46:28.173030Z",
     "start_time": "2020-04-23T12:46:28.165072Z"
    }
   },
   "outputs": [
    {
     "name": "stdout",
     "output_type": "stream",
     "text": [
      "Name: Alice\n",
      "Surname: Smith\n"
     ]
    }
   ],
   "source": [
    "from collections import namedtuple\n",
    "\n",
    "# Define the named tuple\n",
    "People = namedtuple('People', ['name', 'surname'])\n",
    "\n",
    "# Create an instance of People\n",
    "person1 = People(name='Alice', surname='Smith')\n",
    "\n",
    "# Access the fields\n",
    "print(f\"Name: {person1.name}\")\n",
    "print(f\"Surname: {person1.surname}\")"
   ]
  },
  {
   "cell_type": "markdown",
   "metadata": {},
   "source": [
    "* print name and surname"
   ]
  },
  {
   "cell_type": "code",
   "execution_count": 21,
   "metadata": {},
   "outputs": [
    {
     "name": "stdout",
     "output_type": "stream",
     "text": [
      "Name: Alice\n",
      "Surname: Smith\n"
     ]
    }
   ],
   "source": [
    "from collections import namedtuple\n",
    "\n",
    "# Define the named tuple\n",
    "People = namedtuple('People', ['name', 'surname'])\n",
    "\n",
    "# Create an instance of People\n",
    "person1 = People(name='Alice', surname='Smith')\n",
    "\n",
    "# Print the name and surname\n",
    "print(f\"Name: {person1.name}\")\n",
    "print(f\"Surname: {person1.surname}\")"
   ]
  },
  {
   "cell_type": "code",
   "execution_count": null,
   "metadata": {
    "ExecuteTime": {
     "end_time": "2020-04-23T12:46:28.538932Z",
     "start_time": "2020-04-23T12:46:28.535095Z"
    }
   },
   "outputs": [],
   "source": []
  },
  {
   "cell_type": "markdown",
   "metadata": {},
   "source": [
    "_________________\n",
    "## Exception handling\n",
    "Now, let's practice with **errors and exception handling**\n",
    "\n",
    "* Transform all string elements from a list to upper, if the element is not a string don't transform it.\n",
    "* Use a try & except block without using the 'if' statement."
   ]
  },
  {
   "cell_type": "code",
   "execution_count": 22,
   "metadata": {
    "ExecuteTime": {
     "end_time": "2020-04-23T12:46:29.120210Z",
     "start_time": "2020-04-23T12:46:29.109343Z"
    }
   },
   "outputs": [
    {
     "name": "stdout",
     "output_type": "stream",
     "text": [
      "[1, 'APPLE', 'BANANA', 3.14, 'GRAPE']\n"
     ]
    }
   ],
   "source": [
    "def transform_to_upper(strings_and_non_strings):\n",
    "    transformed_list = []\n",
    "    for item in strings_and_non_strings:\n",
    "        try:\n",
    "            # Try to convert string elements to uppercase\n",
    "            transformed_list.append(item.upper())\n",
    "        except AttributeError:\n",
    "            # If it's not a string, keep it unchanged\n",
    "            transformed_list.append(item)\n",
    "    return transformed_list\n",
    "\n",
    "# Example usage\n",
    "my_list = [1, 'apple', 'banana', 3.14, 'grape']\n",
    "result = transform_to_upper(my_list)\n",
    "print(result)"
   ]
  },
  {
   "cell_type": "code",
   "execution_count": null,
   "metadata": {},
   "outputs": [],
   "source": []
  },
  {
   "cell_type": "code",
   "execution_count": null,
   "metadata": {},
   "outputs": [],
   "source": []
  },
  {
   "cell_type": "markdown",
   "metadata": {},
   "source": [
    "### We have created a function below:\n",
    "\n",
    "Luke Skywalker has family and friends. Help him remind himself the type of relation he has with his family and friends. \n",
    "\n",
    "Given a string with a name, return the relation of that person to Luke.\n",
    "\n",
    "**Person --> Relation**\n",
    "- Darth Vader --> father\n",
    "- Leia --> sister\n",
    "- Han --> brother in law\n",
    "- R2D2 --> droid\n",
    "\n",
    "#### Examples\n",
    "\n",
    "> relation_to_luke(\"Darth Vader\") ➞ \"Luke, I am your father.\"\n",
    ">\n",
    "> relation_to_luke(\"Leia\") ➞ \"Luke, I am your sister.\"\n",
    ">\n",
    "> relation_to_luke(\"Han\") ➞ \"Luke, I am your brother in law.\""
   ]
  },
  {
   "cell_type": "code",
   "execution_count": null,
   "metadata": {},
   "outputs": [],
   "source": [
    "def relation_to_luke(text):\n",
    "    _dict = []\n",
    "    _dict[\"Darth Vader\"] = \"father\"\n",
    "    _dict[\"Leia\"] = \"sister\"\n",
    "    _dict[\"Ham\"] = \"brother in law\"\n",
    "    _dict[\"R2D2\"] = \"droid\"\n",
    "    print(f\"Luke, I am your {+ _dict[text]}\")"
   ]
  },
  {
   "cell_type": "markdown",
   "metadata": {},
   "source": [
    "#### Task I\n",
    "Fix errors in the function above so we can run following code"
   ]
  },
  {
   "cell_type": "code",
   "execution_count": null,
   "metadata": {},
   "outputs": [],
   "source": [
    "relation_to_luke(\"Darth Vader\")\n",
    "relation_to_luke(\"Leia\")\n",
    "relation_to_luke(\"Han\")\n",
    "relation_to_luke(\"R2D2\")"
   ]
  },
  {
   "cell_type": "code",
   "execution_count": 23,
   "metadata": {},
   "outputs": [
    {
     "name": "stdout",
     "output_type": "stream",
     "text": [
      "Luke, I am your father.\n",
      "Luke, I am your sister.\n",
      "Luke, I am your brother in law.\n",
      "Luke, I am your droid.\n"
     ]
    }
   ],
   "source": [
    "def relation_to_luke(person_name):\n",
    "    relations = {\n",
    "        \"Darth Vader\": \"father\",\n",
    "        \"Leia\": \"sister\",\n",
    "        \"Han\": \"brother in law\",\n",
    "        \"R2D2\": \"droid\"\n",
    "    }\n",
    "    \n",
    "    if person_name in relations:\n",
    "        return f\"Luke, I am your {relations[person_name]}.\"\n",
    "    else:\n",
    "        return f\"Sorry, I don't recognize the relation for {person_name}.\"\n",
    "\n",
    "# Example usage\n",
    "print(relation_to_luke(\"Darth Vader\"))  # \"Luke, I am your father.\"\n",
    "print(relation_to_luke(\"Leia\"))         # \"Luke, I am your sister.\"\n",
    "print(relation_to_luke(\"Han\"))          # \"Luke, I am your brother in law.\"\n",
    "print(relation_to_luke(\"R2D2\"))         # \"Luke, I am your droid.\""
   ]
  },
  {
   "cell_type": "markdown",
   "metadata": {},
   "source": [
    "#### Task II\n",
    "Use exception handling so we can run the function with any string. In this case, the function will return following:\n",
    "\n",
    "**relation_to_luke(\"aaaa\") ➞ \"aaaa is not in the relation with Luke\"**\n",
    "\n",
    "**Note:** Do **Not** use an **if** statement for this"
   ]
  },
  {
   "cell_type": "code",
   "execution_count": 25,
   "metadata": {},
   "outputs": [
    {
     "name": "stdout",
     "output_type": "stream",
     "text": [
      "Luke, I am your father.\n",
      "Luke, I am your sister.\n",
      "Luke, I am your brother in law.\n",
      "Luke, I am your droid.\n",
      "aaaa1111 is not in the relation with Luke.\n"
     ]
    }
   ],
   "source": [
    "def relation_to_luke(person_name):\n",
    "    relations = {\n",
    "        \"Darth Vader\": \"father\",\n",
    "        \"Leia\": \"sister\",\n",
    "        \"Han\": \"brother in law\",\n",
    "        \"R2D2\": \"droid\"\n",
    "    }\n",
    "    \n",
    "    try:\n",
    "        return f\"Luke, I am your {relations[person_name]}.\"\n",
    "    except KeyError:\n",
    "        return f\"{person_name} is not in the relation with Luke.\"\n",
    "\n",
    "# Example usage\n",
    "print(relation_to_luke(\"Darth Vader\"))  # \"Luke, I am your father.\"\n",
    "print(relation_to_luke(\"Leia\"))         # \"Luke, I am your sister.\"\n",
    "print(relation_to_luke(\"Han\"))          # \"Luke, I am your brother in law.\"\n",
    "print(relation_to_luke(\"R2D2\"))         # \"Luke, I am your droid.\"\n",
    "print(relation_to_luke(\"aaaa1111\"))         # \"aaaa is not in the relation with Luke.\""
   ]
  },
  {
   "cell_type": "code",
   "execution_count": null,
   "metadata": {},
   "outputs": [],
   "source": []
  }
 ],
 "metadata": {
  "kernelspec": {
   "display_name": "THE_ONE",
   "language": "python",
   "name": "the_one"
  },
  "language_info": {
   "codemirror_mode": {
    "name": "ipython",
    "version": 3
   },
   "file_extension": ".py",
   "mimetype": "text/x-python",
   "name": "python",
   "nbconvert_exporter": "python",
   "pygments_lexer": "ipython3",
   "version": "3.11.7"
  },
  "toc": {
   "base_numbering": 1,
   "nav_menu": {},
   "number_sections": true,
   "sideBar": true,
   "skip_h1_title": false,
   "title_cell": "Table of Contents",
   "title_sidebar": "Contents",
   "toc_cell": false,
   "toc_position": {},
   "toc_section_display": true,
   "toc_window_display": false
  },
  "varInspector": {
   "cols": {
    "lenName": 16,
    "lenType": 16,
    "lenVar": 40
   },
   "kernels_config": {
    "python": {
     "delete_cmd_postfix": "",
     "delete_cmd_prefix": "del ",
     "library": "var_list.py",
     "varRefreshCmd": "print(var_dic_list())"
    },
    "r": {
     "delete_cmd_postfix": ") ",
     "delete_cmd_prefix": "rm(",
     "library": "var_list.r",
     "varRefreshCmd": "cat(var_dic_list()) "
    }
   },
   "types_to_exclude": [
    "module",
    "function",
    "builtin_function_or_method",
    "instance",
    "_Feature"
   ],
   "window_display": false
  }
 },
 "nbformat": 4,
 "nbformat_minor": 4
}
