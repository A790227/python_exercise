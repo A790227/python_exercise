{
 "cells": [
  {
   "cell_type": "markdown",
   "metadata": {},
   "source": [
    "# Python Programming Challenge\n",
    "\n",
    "## Poker Hand\n",
    "\n",
    "In this challenge, we have to determine which kind of Poker combination is present in a deck of 5 cards. Every card is a string containing the card value **with the upper-case initial for face-cards** and the **lower-case initial for the suit**, as seen in the examples below:\n",
    "\n",
    "> \"Ah\" ➞ Ace of hearts <br>\n",
    "> \"Ks\" ➞ King of spades<br>\n",
    "> \"3d\" ➞ Three of diamonds<br>\n",
    "> \"Qc\" ➞ Queen of clubs <br>\n",
    "\n",
    "There are 10 different combinations. Here's the list, in descending order of importance:"
   ]
  },
  {
   "cell_type": "markdown",
   "metadata": {},
   "source": [
    "| Name            | Description                                         |\n",
    "|-----------------|-----------------------------------------------------|\n",
    "| Royal Flush     | A, K, Q, J, 10, all with the same suit.             |\n",
    "| Straight Flush  | Five cards in sequence, all with the same suit.     |\n",
    "| Four of a Kind  | Four cards of the same rank.                        |\n",
    "| Full House      | Three of a Kind with a Pair.                        |\n",
    "| Flush           | Any five cards of the same suit, not in sequence    |\n",
    "| Straight        | Five cards in a sequence, but not of the same suit. |\n",
    "| Three of a Kind | Three cards of the same rank.                       |\n",
    "| Two Pair        | Two different Pairs.                                |\n",
    "| Pair            | Two cards of the same rank.                         |\n",
    "| High Card       | No other valid combination.                         |\n",
    "\n",
    "---------"
   ]
  },
  {
   "cell_type": "markdown",
   "metadata": {},
   "source": [
    "#### 1. Given a list `hand` containing five strings being the cards. Implement a function called `poker_hand_ranking` that **returns a string with the name of the highest combination obtained.** According to the table above.\n",
    "\n",
    "**Examples:**\n",
    "\n",
    "> poker_hand_ranking([\"10h\", \"Jh\", \"Qh\", \"Ah\", \"Kh\"]) ➞ \"Royal Flush\"<br>\n",
    "> poker_hand_ranking([\"3h\", \"5h\", \"Qs\", \"9h\", \"Ad\"]) ➞ \"High Card\"<br>\n",
    "> poker_hand_ranking([\"10s\", \"10c\", \"8d\", \"10d\", \"10h\"]) ➞ \"Four of a Kind\"<br>"
   ]
  },
  {
   "cell_type": "code",
   "execution_count": 5,
   "metadata": {},
   "outputs": [
    {
     "name": "stdout",
     "output_type": "stream",
     "text": [
      "Straight Flush\n",
      "High Card\n",
      "Four of a Kind\n"
     ]
    }
   ],
   "source": [
    "def poker_hand_ranking(hand):\n",
    "   \n",
    "    # Create a dictionary to count the occurrences of each rank\n",
    "    rank_count = {}\n",
    "    for card in hand:\n",
    "        rank = card[:-1]  # Extract the rank part (e.g., \"10\" from \"10h\")\n",
    "        rank_count[rank] = rank_count.get(rank, 0) + 1\n",
    "\n",
    "    # Check for specific combinations in descending order of importance\n",
    "    if len(rank_count) == 5:\n",
    "        # No repeated ranks\n",
    "        is_flush = all(card[-1] == hand[0][-1] for card in hand)\n",
    "        is_straight = sorted(rank_count.keys()) == [\"10\", \"J\", \"Q\", \"K\", \"A\"]\n",
    "        if is_flush and is_straight:\n",
    "            return \"Royal Flush\"\n",
    "        elif is_flush:\n",
    "            return \"Straight Flush\"\n",
    "        elif is_straight:\n",
    "            return \"Straight\"\n",
    "        else:\n",
    "            return \"High Card\"\n",
    "    elif len(rank_count) == 4:\n",
    "        return \"One Pair\"\n",
    "    elif len(rank_count) == 3:\n",
    "        if 3 in rank_count.values():\n",
    "            return \"Three of a Kind\"\n",
    "        else:\n",
    "            return \"Two Pair\"\n",
    "    elif len(rank_count) == 2:\n",
    "        if 4 in rank_count.values():\n",
    "            return \"Four of a Kind\"\n",
    "        else:\n",
    "            return \"Full House\"\n",
    "\n",
    "# Example usage\n",
    "print(poker_hand_ranking([\"10h\", \"Jh\", \"Qh\", \"Ah\", \"Kh\"]))  # Output: \"Royal Flush\"\n",
    "print(poker_hand_ranking([\"3h\", \"5h\", \"Qs\", \"9h\", \"Ad\"]))  # Output: \"High Card\"\n",
    "print(poker_hand_ranking([\"10s\", \"10c\", \"8d\", \"10d\", \"10h\"]))  # Output: \"Four of a Kind\""
   ]
  },
  {
   "cell_type": "markdown",
   "metadata": {},
   "source": [
    "------------\n",
    "### **Stretch Content**\n",
    "\n",
    "#### 2.  Implement a function `winner_is` that returns the winner given a dictionary with different players and their hands. \n",
    "**Example**\n",
    "\n",
    "We define dictionary like\n",
    "```python\n",
    "round_1 = {\"John\" = [\"10h\", \"Jh\", \"Qh\", \"Ah\", \"Kh\"], \n",
    "        \"Peter\" = [\"3h\", \"5h\", \"Qs\", \"9h\", \"Ad\"]}\n",
    "```\n",
    "\n",
    "Our function returns the name of the winner:\n",
    "> winner_is(round_1) --> \"John\"\n",
    "\n",
    "One table can have up to 10 players.\n"
   ]
  },
  {
   "cell_type": "code",
   "execution_count": 16,
   "metadata": {},
   "outputs": [
    {
     "name": "stdout",
     "output_type": "stream",
     "text": [
      "John\n"
     ]
    }
   ],
   "source": [
    "def poker_hand_ranking(hand):\n",
    "\n",
    "    # Create a dictionary to count the occurrences of each rank\n",
    "    rank_count = {}\n",
    "    for card in hand:\n",
    "        rank = card[:-1]  # Extract the rank part (e.g., \"10\" from \"10h\")\n",
    "        rank_count[rank] = rank_count.get(rank, 0) + 1\n",
    "\n",
    "    # Check for specific combinations in descending order of importance\n",
    "    if len(rank_count) == 5:\n",
    "        # No repeated ranks\n",
    "        is_flush = all(card[-1] == hand[0][-1] for card in hand)\n",
    "        is_straight = sorted(rank_count.keys()) == [\"10\", \"J\", \"Q\", \"K\", \"A\"]\n",
    "        if is_flush and is_straight:\n",
    "            return \"Royal Flush\"\n",
    "        elif is_flush:\n",
    "            return \"Straight Flush\"\n",
    "        elif is_straight:\n",
    "            return \"Straight\"\n",
    "        else:\n",
    "            return \"High Card\"\n",
    "    elif len(rank_count) == 4:\n",
    "        return \"One Pair\"\n",
    "    elif len(rank_count) == 3:\n",
    "        if 3 in rank_count.values():\n",
    "            return \"Three of a Kind\"\n",
    "        else:\n",
    "            return \"Two Pair\"\n",
    "    elif len(rank_count) == 2:\n",
    "        if 4 in rank_count.values():\n",
    "            return \"Four of a Kind\"\n",
    "        else:\n",
    "            return \"Full House\"\n",
    "        \n",
    "    highest_rank = float(\"-inf\")  # Initialize with negative infinity\n",
    "    winner = None\n",
    "\n",
    "    for player, hand in players.items():\n",
    "        rank = poker_hand_ranking(hand)\n",
    "        if rank > highest_rank:\n",
    "            highest_rank = rank\n",
    "            winner = player\n",
    "\n",
    "    return winner\n",
    "\n",
    "# Example usage\n",
    "round_1 = {\n",
    "    \"John\": [\"10h\", \"Jh\", \"Qh\", \"Ah\", \"Kh\"],\n",
    "    \"Peter\": [\"3h\", \"5h\", \"Qs\", \"9h\", \"Ad\"]\n",
    "}\n",
    "\n",
    "print(winner_is(round_1))  # Output: \"John\""
   ]
  },
  {
   "cell_type": "markdown",
   "metadata": {},
   "source": [
    "#### 3. Create a function `distribute_cards` that randomly generates and gives 5 cards to every player given a list of player names.\n",
    "\n",
    "**Example**\n",
    "\n",
    "> distribute_cards([\"John\",\"Peter\"])  -> round_1 = {\"John\" = [\"10h\", \"Jh\", \"Qh\", \"Ah\", \"Kh\"], \n",
    "        \"Peter\" = [\"3h\", \"5h\", \"Qs\", \"9h\", \"Ad\"]\n",
    "}"
   ]
  },
  {
   "cell_type": "code",
   "execution_count": 17,
   "metadata": {},
   "outputs": [
    {
     "name": "stdout",
     "output_type": "stream",
     "text": [
      "{'John': ['8s', '4c', 'Jh', '10c', '7c'], 'Peter': ['5c', '3h', '5h', '9c', 'Qh']}\n"
     ]
    }
   ],
   "source": [
    "import random\n",
    "\n",
    "def generate_deck():\n",
    "    ranks = [\"2\", \"3\", \"4\", \"5\", \"6\", \"7\", \"8\", \"9\", \"10\", \"J\", \"Q\", \"K\", \"A\"]\n",
    "    suits = [\"h\", \"d\", \"c\", \"s\"]  # Hearts, Diamonds, Clubs, Spades\n",
    "    deck = [rank + suit for rank in ranks for suit in suits]\n",
    "    random.shuffle(deck)\n",
    "    return deck\n",
    "\n",
    "def distribute_cards(players):\n",
    "    \"\"\"\n",
    "    Generates and assigns 5 cards to each player from a given list of player names.\n",
    "\n",
    "    Args:\n",
    "        players (list): List of player names.\n",
    "\n",
    "    Returns:\n",
    "        dict: Dictionary where keys are player names and values are lists of cards.\n",
    "    \"\"\"\n",
    "    deck = generate_deck()\n",
    "    round_1 = {player: deck[i * 5 : (i + 1) * 5] for i, player in enumerate(players)}\n",
    "    return round_1\n",
    "\n",
    "# Example usage\n",
    "players = [\"John\", \"Peter\"]\n",
    "round_1 = distribute_cards(players)\n",
    "print(round_1)"
   ]
  },
  {
   "cell_type": "code",
   "execution_count": null,
   "metadata": {},
   "outputs": [],
   "source": []
  },
  {
   "cell_type": "code",
   "execution_count": null,
   "metadata": {},
   "outputs": [],
   "source": []
  },
  {
   "cell_type": "code",
   "execution_count": null,
   "metadata": {},
   "outputs": [],
   "source": []
  }
 ],
 "metadata": {
  "kernelspec": {
   "display_name": "Python 3",
   "language": "python",
   "name": "python3"
  },
  "language_info": {
   "codemirror_mode": {
    "name": "ipython",
    "version": 3
   },
   "file_extension": ".py",
   "mimetype": "text/x-python",
   "name": "python",
   "nbconvert_exporter": "python",
   "pygments_lexer": "ipython3",
   "version": "3.7.9"
  }
 },
 "nbformat": 4,
 "nbformat_minor": 4
}
